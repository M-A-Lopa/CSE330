{
  "nbformat": 4,
  "nbformat_minor": 0,
  "metadata": {
    "colab": {
      "provenance": [],
      "authorship_tag": "ABX9TyP+OA5wEIb16cP25sSqOLnN",
      "include_colab_link": true
    },
    "kernelspec": {
      "name": "python3",
      "display_name": "Python 3"
    },
    "language_info": {
      "name": "python"
    }
  },
  "cells": [
    {
      "cell_type": "markdown",
      "metadata": {
        "id": "view-in-github",
        "colab_type": "text"
      },
      "source": [
        "<a href=\"https://colab.research.google.com/github/M-A-Lopa/CSE330/blob/main/CSE330_Lab_01_Examimport_numpy_as_np.ipynb\" target=\"_parent\"><img src=\"https://colab.research.google.com/assets/colab-badge.svg\" alt=\"Open In Colab\"/></a>"
      ]
    },
    {
      "cell_type": "code",
      "execution_count": null,
      "metadata": {
        "id": "YvdKj1aQ371Q"
      },
      "outputs": [],
      "source": [
        "import numpy as np\n",
        "from numpy.polynomial import Polynomial"
      ]
    },
    {
      "cell_type": "markdown",
      "source": [
        "Task 1"
      ],
      "metadata": {
        "id": "sEeCwySQ5Uni"
      }
    },
    {
      "cell_type": "code",
      "source": [
        "#A\n",
        "p = Polynomial([-5.0625, 10, 0, 2.25, 0, -0.25])\n",
        "val = p(8)\n",
        "print(val)\n",
        "#B\n",
        "p_prime = p.deriv(1)\n",
        "p_prime_two = p_prime.deriv(1)\n",
        "\n",
        "x = 3\n",
        "denominator = (p_prime_two(3))**2\n",
        "func = (p(3) + p_prime(3)) / denominator\n",
        "print(round(func, 5))"
      ],
      "metadata": {
        "colab": {
          "base_uri": "https://localhost:8080/"
        },
        "id": "e_IelVFM5ULK",
        "outputId": "371b2aa3-d039-45ba-d9f1-6a80f771e427"
      },
      "execution_count": null,
      "outputs": [
        {
          "output_type": "stream",
          "name": "stdout",
          "text": [
            "-6965.0625\n",
            "-0.00062\n"
          ]
        }
      ]
    },
    {
      "cell_type": "markdown",
      "source": [
        "Task 2"
      ],
      "metadata": {
        "id": "vqg2Qav968oJ"
      }
    },
    {
      "cell_type": "code",
      "source": [
        "def X_vondo(x):\n",
        "  n = len(x)\n",
        "  thunder = np.zeros((n, n))\n",
        "\n",
        "  for i in range(n):\n",
        "    power = 1\n",
        "    for j in range(n//2):\n",
        "      thunder[i][j] = (x[i])**power\n",
        "      power += 2\n",
        "      row = j\n",
        "\n",
        "  for i in range(n):\n",
        "    power = 0\n",
        "    for k in range(row+1, n):\n",
        "      thunder[i][k] = x[i]**power\n",
        "      power+= 2\n",
        "  return thunder\n",
        "\n",
        "data_x = np.array([2,3,4,6])\n",
        "print(X_vondo(data_x))"
      ],
      "metadata": {
        "colab": {
          "base_uri": "https://localhost:8080/"
        },
        "id": "pIaQ1qnm68W5",
        "outputId": "1b0fd9ba-c9e2-4b50-a1ba-4102ec17eb71"
      },
      "execution_count": null,
      "outputs": [
        {
          "output_type": "stream",
          "name": "stdout",
          "text": [
            "[[  2.   8.   1.   4.]\n",
            " [  3.  27.   1.   9.]\n",
            " [  4.  64.   1.  16.]\n",
            " [  6. 216.   1.  36.]]\n"
          ]
        }
      ]
    },
    {
      "cell_type": "markdown",
      "source": [
        "Task 3"
      ],
      "metadata": {
        "id": "HYKWv7PB9_Yv"
      }
    },
    {
      "cell_type": "code",
      "source": [
        "def dh(f, x, h):\n",
        "  return ((f(x) - f(x-h)) / (h))\n",
        "\n",
        "def dh_1(f, x, h):\n",
        "   return ((4*dh(f, x, h/2) - dh(f, x, h))/ 3)\n",
        "\n",
        "def dh_2(f, x, h):\n",
        "  return ((16*dh_1(f, x, h/2) - dh_1(f, x, h))/ 15)\n",
        "\n",
        "def richardson_extrapolation_numpy(f, x, h):\n",
        "  diff_dh = dh_2(f, x, h)\n",
        "  return diff_dh\n",
        "\n",
        "f = Polynomial([10, 2, -1.5, 4, -2, 3])\n",
        "x = 3\n",
        "h = 0.1\n",
        "D2 = richardson_extrapolation_numpy(f, x, h)\n",
        "D2_rounded = np.round(D2, 3)\n",
        "print(D2_rounded)"
      ],
      "metadata": {
        "colab": {
          "base_uri": "https://localhost:8080/"
        },
        "id": "weyGotdg-AjG",
        "outputId": "cc7a25c7-0dfc-481c-ce47-49d43ef9796e"
      },
      "execution_count": null,
      "outputs": [
        {
          "output_type": "stream",
          "name": "stdout",
          "text": [
            "1088.544\n"
          ]
        }
      ]
    }
  ]
}