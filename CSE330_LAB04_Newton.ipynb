{
  "nbformat": 4,
  "nbformat_minor": 0,
  "metadata": {
    "colab": {
      "provenance": [],
      "include_colab_link": true
    },
    "kernelspec": {
      "name": "python3",
      "display_name": "Python 3"
    },
    "language_info": {
      "name": "python"
    }
  },
  "cells": [
    {
      "cell_type": "markdown",
      "metadata": {
        "id": "view-in-github",
        "colab_type": "text"
      },
      "source": [
        "<a href=\"https://colab.research.google.com/github/M-A-Lopa/CSE330/blob/main/CSE330_LAB04_Newton.ipynb\" target=\"_parent\"><img src=\"https://colab.research.google.com/assets/colab-badge.svg\" alt=\"Open In Colab\"/></a>"
      ]
    },
    {
      "cell_type": "code",
      "execution_count": null,
      "metadata": {
        "id": "ekEFOYF5O1e-"
      },
      "outputs": [],
      "source": [
        "NAME = \"Mehrin Afroz Lopa\"\n",
        "ID = \"2299547\"\n",
        "SECTION = \"16\""
      ]
    },
    {
      "cell_type": "markdown",
      "metadata": {
        "deletable": false,
        "editable": false,
        "id": "t6HuHqs8Plva",
        "nbgrader": {
          "cell_type": "markdown",
          "checksum": "2ac7b29da925009a6e6e93ce16cd1871",
          "grade": false,
          "grade_id": "intro1",
          "locked": true,
          "schema_version": 3,
          "solution": false,
          "task": false
        }
      },
      "source": [
        "## Importing the necessary libraries"
      ]
    },
    {
      "cell_type": "code",
      "execution_count": null,
      "metadata": {
        "deletable": false,
        "editable": false,
        "id": "zaOqCWsePlvb",
        "nbgrader": {
          "cell_type": "code",
          "checksum": "b3ce57ac45d5516f69d56b4a7c02a1d6",
          "grade": false,
          "grade_id": "import",
          "locked": true,
          "schema_version": 3,
          "solution": false,
          "task": false
        }
      },
      "outputs": [],
      "source": [
        "import numpy as np\n",
        "import matplotlib.pyplot as plt\n",
        "from itertools import combinations\n",
        "from numpy.polynomial import Polynomial"
      ]
    },
    {
      "cell_type": "code",
      "source": [
        "P=Polynomial([1,2,3,4])"
      ],
      "metadata": {
        "id": "NeFqdK1_IUG9"
      },
      "execution_count": null,
      "outputs": []
    },
    {
      "cell_type": "code",
      "source": [
        "print(P.deriv(1))"
      ],
      "metadata": {
        "id": "3B8cJXiZlLpM",
        "colab": {
          "base_uri": "https://localhost:8080/"
        },
        "outputId": "87341b59-48a6-4e54-f27e-b33ea9d1cb9d"
      },
      "execution_count": null,
      "outputs": [
        {
          "output_type": "stream",
          "name": "stdout",
          "text": [
            "2.0 + 6.0·x + 12.0·x²\n"
          ]
        }
      ]
    },
    {
      "cell_type": "markdown",
      "metadata": {
        "deletable": false,
        "editable": false,
        "id": "UgP_TWwOPlvj",
        "nbgrader": {
          "cell_type": "markdown",
          "checksum": "c07a0720672d1b686830ce5cef78046c",
          "grade": false,
          "grade_id": "cell-580b64f506c61583",
          "locked": true,
          "schema_version": 3,
          "solution": false,
          "task": false
        }
      },
      "source": [
        "## Part 2: Polynomial Interpolation Using Newton's Divided Difference Form\n",
        "---\n"
      ]
    },
    {
      "cell_type": "markdown",
      "metadata": {
        "deletable": false,
        "editable": false,
        "id": "AgAbn67kPlvj",
        "nbgrader": {
          "cell_type": "markdown",
          "checksum": "030540dd5ee10acfca978c35d1e76cb8",
          "grade": false,
          "grade_id": "cell-95fa6d3532e84eff",
          "locked": true,
          "schema_version": 3,
          "solution": false,
          "task": false
        }
      },
      "source": [
        "### Newton's Divided Difference Form\n",
        "\n",
        "Newton form of a $n$ degree polynomial:\n",
        "\n",
        "$$p_n(x) = \\sum_{k=0}^{n} a_kn_k(x),$$\n",
        "where the basis is:\n",
        "$$n_k(x) = \\prod_{j=0}^{k-1}(x-x_j),$$\n",
        "$$ n_0(x)=1,$$\n",
        "\n",
        "and the coefficients are: $$a_k = f[x_0, x_1, ..., x_k],$$\n",
        "\n",
        "where the notation $f[x_0, x_1,\\dots,x_k]$ denotes the divided difference.\n",
        "\n",
        "By expanding the Newton form, we get:\n",
        "\n",
        "$$p(x) = f [x_0] + (x-x_0) f[x_0,x_1] + (x-x_0) (x-x_1) f[x_0,x_1,x_2] + \\dots + (x-x_0) (x-x_1) \\dots (x-x_{k-1}) f[x_0, x_1, \\dots, x_k]$$\n",
        "\n",
        "\n",
        "## Task 2 - 2 Marks:\n",
        "1. Complete the `calc_div_diff(x,y)` function which takes input `x` and `y`, and calculates all the divided differences. You may use the lambda function `difference()` inside the `calc_div_diff(x,y)` function to calculate the divided differences.\n",
        "\n",
        "2. Complete the `__call__()` function which takes an input `x`, and calculates `y` using all the difference coefficients. `x` can be a single value or a numpy. In this case, it is a numpy array.\n",
        "\n",
        "`res` variable must contain all results (corresponding y for x)."
      ]
    },
    {
      "cell_type": "code",
      "source": [
        "# basic rule for calculating the difference, implanted in the lambda function.\n",
        "# You may use it if you wish\n",
        "difference = lambda y2, y1, x2, x1: (y2-y1)/(x2-x1)\n",
        "def calc_div_diff(x,y):\n",
        "    assert(len(x)==len(y))#used instead of if else condition\n",
        "    #returns boolean val\n",
        "    #if cond matches, returns true otherwise False\n",
        "\n",
        "    #write this function to calculate all the divided differences in the list 'b'\n",
        "    #b = []\n",
        "    #----------------------------------------------\n",
        "    #write your code\n",
        "\n",
        "    n = len(x)\n",
        "    coef = np.zeros((n,n))  #initializing\n",
        "    #----------------------------------------------\n",
        "    coef[:,0] = y   #accessing 1st col\n",
        "    #coeff[0] ---- to access the first row\n",
        "\n",
        "    for j in range(1,n): #Col = 1\n",
        "      for i in range(n-j): #Row = 3-1 = 2-->i = 0, 1\n",
        "        #when col = 2 --> row = 3-2 = 1, i = 0\n",
        "        #joto col agabo, toto row kombe\n",
        "        coef[i][j] = (coef[i+1][j-1]-coef[i][j-1])/(x[i+j]-x[i])#coef[0][1] = (coef[1][0] - coef[0][0]) / x[1]-x[0]\n",
        "        #coef[i+1][j-1] --> coef[i+1] --> porer row, coeff[j-1] __> ager col e stored val\n",
        "    #----------------------------------------------\n",
        "    #raise NotImplementedError()\n",
        "    return coef[0] #for 1st row"
      ],
      "metadata": {
        "id": "8LdUxItwmdcw"
      },
      "execution_count": null,
      "outputs": []
    },
    {
      "cell_type": "code",
      "source": [
        "data_x = [-3.,-2.,-1.,0.,1.,3.,4.]\n",
        "data_y = [-60.,-80.,6.,1.,45.,30.,16.]\n",
        "\n",
        "test = calc_div_diff(data_x, data_y)\n",
        "\n",
        "assert len(test) == len(data_x)"
      ],
      "metadata": {
        "id": "kTJpyVlFmeG0"
      },
      "execution_count": null,
      "outputs": []
    },
    {
      "cell_type": "code",
      "source": [
        "np.testing.assert_array_equal([-60.0,-20.0,53.0,-32.833333333333336,14.041666666666668,-3.465277777777778,0.7232142857142857], test)"
      ],
      "metadata": {
        "id": "OssvkkEMmhIC"
      },
      "execution_count": null,
      "outputs": []
    },
    {
      "cell_type": "code",
      "source": [
        "class Newtons_Divided_Differences:\n",
        "\n",
        "    def __init__(self, differences, data_x):\n",
        "        self.differences = differences\n",
        "        self.data_x = data_x\n",
        "\n",
        "    def __call__(self, x):#test_y = p(test_x), here, text_x == x\n",
        "        '''\n",
        "        this function is for calculating y from given x using all the difference coefficients\n",
        "        x can be a single value or a numpy\n",
        "        the formula being used:\n",
        "        f(x) = f [x0] + (x-x0) f[x0,x1] + (x-x0) (x-x1) f[x0,x1,x2] + . . . + (x-x0) (x-x1) . . . (x-xk-1) f[x0, x1, . . ., xk]\n",
        "\n",
        "        work on this after implementing 'calc_div_diff'. Then you should have\n",
        "        f[x0], f[x0,x1]. . . . . ., f[x0, x1, . . ., xk] stored in self.differences\n",
        "\n",
        "        'res' variable must return all the results (corresponding y for x)\n",
        "        '''\n",
        "\n",
        "        res = np.zeros(len(x)) #Initialization to avoid runtime error. You can change this line if you wish\n",
        "\n",
        "        #----------------------------------------------\n",
        "        # YOUR CODE\n",
        "\n",
        "        for i in range(len(self.differences)):\n",
        "          result = 1\n",
        "          for j in range(i):\n",
        "            result*= (x - self.data_x[j])#x is a NumPy array.\n",
        "            #x - self.data_x[j] results in a vector:[x0 - xj, x1 - xj, x2 - xj, ..., xn - xj]\n",
        "            #if dont want to write X --> take outer loop(k) and x[k] - self.data_x[j]\n",
        "          res+= result * self.differences[i]\n",
        "          #result becomes a vector (numpy array).\n",
        "          #result * self.differences[i] → also a vector.\n",
        "          #res += vector → vector addition happens automatically (element-wise)!\n",
        "          #The whole res array is updated in one shot using vectorized operations!\n",
        "          #thus res was written instead of res[]\n",
        "        #----------------------------------------------\n",
        "\n",
        "        return res"
      ],
      "metadata": {
        "id": "shXRlo8hmnV4"
      },
      "execution_count": null,
      "outputs": []
    },
    {
      "cell_type": "markdown",
      "metadata": {
        "deletable": false,
        "editable": false,
        "id": "affgKuuNPlvk",
        "nbgrader": {
          "cell_type": "markdown",
          "checksum": "e2b6e9e71eaf31b857393044c2768ac0",
          "grade": false,
          "grade_id": "cell-f6a9f264b02b2642",
          "locked": true,
          "schema_version": 3,
          "solution": false,
          "task": false
        }
      },
      "source": [
        "### Plotting the polynomial\n",
        "* `data_x` and `data_y` are the coordinates of the given nodes.\n",
        "\n",
        "* `differences` is a list which contains the divided differences as each of its elements: $f[x_0], f[x_0,x_1], f[x_0,x_1,x_2], \\dots$\n",
        "\n",
        "* `obj` is an object of type `Newtons_Divided_Differences`. Creating the object runs the constructor of the class where the `difference` are stored in `self.differences`.\n",
        "\n",
        "* `X` contains $x_i$ values through which we want to plot our polynomial.\n",
        "\n",
        "* Calling the object using `obj(X)` executes the `__call__()` function of the class, which returns a numpy array containing the corresponding $y_i$ values, and storing them in variable `F`.\n",
        "\n",
        "* Using `plt.plot(X,F)`, we plot the $(x_i, y_i)$ pairs of the polynomial."
      ]
    },
    {
      "cell_type": "code",
      "source": [
        "import numpy as np\n",
        "import matplotlib.pyplot as plt\n",
        "\n",
        "data_x = np.array([-5.,-1,-0.5,0.5,3.5,7.,9])\n",
        "data_y = np.array([-5.,-1,-0.5,0.5,3.5,7.,9])\n",
        "differences = calc_div_diff(list(data_x), list(data_y))\n",
        "p = Newtons_Divided_Differences(list(differences),data_x)#obj created\n",
        "test_x = np.linspace(-7, 10, 50, endpoint=True)\n",
        "test_y = p(test_x)#when we call an obj, it calls the __call__ function\n",
        "#text_x is __call__ func's x\n",
        "print(test_y)\n",
        "plt.plot(test_x, test_y)\n",
        "plt.plot(data_x, data_y, 'ro')\n",
        "plt.show()"
      ],
      "metadata": {
        "colab": {
          "base_uri": "https://localhost:8080/",
          "height": 586
        },
        "id": "ibtiqY7Pm8Ws",
        "outputId": "9ad89161-6187-4acf-91b7-f80f4bcd5209"
      },
      "execution_count": null,
      "outputs": [
        {
          "output_type": "stream",
          "name": "stdout",
          "text": [
            "[-7.         -6.65306122 -6.30612245 -5.95918367 -5.6122449  -5.26530612\n",
            " -4.91836735 -4.57142857 -4.2244898  -3.87755102 -3.53061224 -3.18367347\n",
            " -2.83673469 -2.48979592 -2.14285714 -1.79591837 -1.44897959 -1.10204082\n",
            " -0.75510204 -0.40816327 -0.06122449  0.28571429  0.63265306  0.97959184\n",
            "  1.32653061  1.67346939  2.02040816  2.36734694  2.71428571  3.06122449\n",
            "  3.40816327  3.75510204  4.10204082  4.44897959  4.79591837  5.14285714\n",
            "  5.48979592  5.83673469  6.18367347  6.53061224  6.87755102  7.2244898\n",
            "  7.57142857  7.91836735  8.26530612  8.6122449   8.95918367  9.30612245\n",
            "  9.65306122 10.        ]\n"
          ]
        },
        {
          "output_type": "display_data",
          "data": {
            "text/plain": [
              "<Figure size 640x480 with 1 Axes>"
            ],
            "image/png": "[encoded data removed]"
          },
          "metadata": {}
        }
      ]
    },
    {
      "cell_type": "markdown",
      "source": [
        "# Daily Evaluation - 4 marks"
      ],
      "metadata": {
        "id": "8gHrOpCcjl_r"
      }
    },
    {
      "cell_type": "markdown",
      "source": [
        "For part 2 and 3 question: Suppose the given original function is sin(x) and f(x) = sin(x). Now, the given nodes are -pi/2, 0 , pi/2. Calculate the value of the interppolating polynomial at x = pi/4 and show the truncation error. To get the value of pi you can import the math library and just type math.pi. To give values of sin(x) function at any given point of x,just type math.sin(x)"
      ],
      "metadata": {
        "id": "SZ2GO0vrFekm"
      }
    },
    {
      "cell_type": "code",
      "source": [
        "import math\n",
        "data_x = np.array([-math.pi/2, 0, math.pi/2])\n",
        "data_y = np.array([math.sin(-(math.pi/2)), math.sin(0), math.sin(math.pi/2)])\n",
        "differences = calc_div_diff(list(data_x), list(data_y))\n",
        "p = Newtons_Divided_Differences(list(differences),data_x)\n",
        "test_x = np.array([math.pi/4])#ekta value pass korteci so ekta value ashbe\n",
        "#multiple value send korle 1d array te prottek value er jonno\n",
        "test_y = p(test_x)\n",
        "print(\"Value of interpolating polynomial:\",test_y[0])\n",
        "\n",
        "truncation_error = abs(math.sin(math.pi/4) - test_y[0])\n",
        "print()\n",
        "print(\"Truncation error:\", truncation_error)"
      ],
      "metadata": {
        "colab": {
          "base_uri": "https://localhost:8080/"
        },
        "id": "s0wt3yBIRM-T",
        "outputId": "dfda16d6-1f3a-42e7-9a31-74e6c101cc72"
      },
      "execution_count": null,
      "outputs": [
        {
          "output_type": "stream",
          "name": "stdout",
          "text": [
            "Value of interpolating polynomial: 0.5\n",
            "\n",
            "Truncation error: 0.20710678118654746\n"
          ]
        }
      ]
    },
    {
      "cell_type": "code",
      "source": [
        "import numpy as np\n",
        "\n",
        "data_x = np.array([-np.pi/2, 0, np.pi/2])\n",
        "data_y = np.array([np.sin(-(np.pi/2)), np.sin(0), np.sin(np.pi/2)])\n",
        "differences = calc_div_diff(list(data_x), list(data_y))\n",
        "p = Newtons_Divided_Differences(list(differences),data_x)\n",
        "test_x = np.array([np.pi/4])\n",
        "test_y = p(test_x)\n",
        "print(\"Value of interpolating polynomial:\",test_y[0])\n",
        "\n",
        "truncation_error = abs(np.sin(np.pi/4) - test_y[0])\n",
        "print()\n",
        "print(\"Truncation error:\", truncation_error)"
      ],
      "metadata": {
        "colab": {
          "base_uri": "https://localhost:8080/"
        },
        "id": "GINAK5PqHya8",
        "outputId": "675f1441-4c0d-4c1b-9765-e2be79618f78"
      },
      "execution_count": null,
      "outputs": [
        {
          "output_type": "stream",
          "name": "stdout",
          "text": [
            "Value of interpolating polynomial: 0.5\n",
            "\n",
            "Truncation error: 0.20710678118654746\n"
          ]
        }
      ]
    },
    {
      "cell_type": "code",
      "source": [
        "#simulation for loop inside the __call__()\n",
        "#test_x = [0.785, 0.393] --> x --> passed inside __call__()\n",
        "\n",
        "#data_x = [-1.571, 0.0, 1.571] --> x0, x1, x2\n",
        "\n",
        "#j = 0: temp1 = test_x - x_0 = [2.356, 1.964]\n",
        "\n",
        "#j = 1: temp2 = test_x - x_1 = [0.785, 0.393]\n",
        "\n",
        "#result = temp1 * temp2 = [2.356*0.785, 1.964*0.393] ≈ [1.85, 0.77]"
      ],
      "metadata": {
        "id": "CawGpGfp4ehh"
      },
      "execution_count": null,
      "outputs": []
    }
  ]
}